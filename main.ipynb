{
 "cells": [
  {
   "cell_type": "code",
   "execution_count": 0,
   "metadata": {
    "id": "Pbu5WFeI3SU7",
    "colab_type": "code",
    "colab": {}
   },
   "outputs": [],
   "source": [
    "import pandas as pd\n",
    "import numpy as np\n",
    "from sklearn.model_selection import train_test_split\n",
    "\n",
    "import matplotlib.pyplot as plt\n",
    "import itertools"
   ]
  },
  {
   "cell_type": "markdown",
   "metadata": {
    "id": "_Qh2vV5k3lgs",
    "colab_type": "text"
   },
   "source": [
    "DATA PREPROCESSING"
   ]
  },
  {
   "cell_type": "code",
   "execution_count": 0,
   "metadata": {
    "id": "IBRvlS1rmnT3",
    "colab_type": "code",
    "colab": {}
   },
   "outputs": [],
   "source": [
    "dfi = pd.read_csv('wdbc.dataset', header=None)\n",
    "dfi = dfi.dropna()\n",
    "#print(df.shape)\n",
    "#print(list(df.columns))\n",
    "\n",
    "#print(df.info())\n",
    "\n",
    "#print(df.dtypes)\n",
    "dfi.head(3)\n",
    "#print(df)\n",
    "\n",
    "#dropping ids\n",
    "dfi = dfi.drop(0,1)\n",
    "#print(dfi)\n",
    "\n",
    "#mapping M to 1 and B to 0\n",
    "dfi[1] = dfi[1].map({'M':1,'B':0})\n",
    "\n",
    "#print(dfi)\n",
    "df=((dfi-dfi.min())/(dfi.max()-dfi.min()))*20\n",
    "df[1] = dfi[1]\n",
    "\n",
    "#print(df)\n"
   ]
  },
  {
   "cell_type": "code",
   "execution_count": 0,
   "metadata": {
    "id": "FiZd0m9cxAiS",
    "colab_type": "code",
    "colab": {}
   },
   "outputs": [],
   "source": [
    "train, test = train_test_split(df,test_size = 0.2, random_state = 2)\n",
    "#print(test)\n",
    "test, val = train_test_split(test,test_size = 0.5, random_state = 2)\n",
    "#print(test)\n",
    "#print(val)\n",
    "#print(train)"
   ]
  },
  {
   "cell_type": "code",
   "execution_count": 0,
   "metadata": {
    "id": "5WjSzPv_GoxY",
    "colab_type": "code",
    "colab": {}
   },
   "outputs": [],
   "source": [
    "train_x = train.loc[:,2:31]\n",
    "train_y = train.loc[:,1]"
   ]
  },
  {
   "cell_type": "code",
   "execution_count": 0,
   "metadata": {
    "id": "iNpPuZxcC3xG",
    "colab_type": "code",
    "colab": {}
   },
   "outputs": [],
   "source": [
    "test_x = test.loc[:,2:31]\n",
    "test_y = test.loc[:,1] "
   ]
  },
  {
   "cell_type": "code",
   "execution_count": 0,
   "metadata": {
    "id": "hpp-Crtg9THd",
    "colab_type": "code",
    "colab": {}
   },
   "outputs": [],
   "source": [
    "val_x = val.loc[:,2:31]\n",
    "val_y = val.loc[:,1]"
   ]
  },
  {
   "cell_type": "code",
   "execution_count": 0,
   "metadata": {
    "id": "rktghI-xC_2J",
    "colab_type": "code",
    "colab": {}
   },
   "outputs": [],
   "source": [
    "train_x = np.asarray(train_x)\n",
    "train_y = np.asarray(train_y)\n",
    "test_x = np.asarray(test_x)\n",
    "test_y = np.asarray(test_y)\n",
    "val_x = np.asarray(val_x)\n",
    "val_y = np.asarray(val_y)"
   ]
  },
  {
   "cell_type": "markdown",
   "metadata": {
    "id": "awk_kuft8xGd",
    "colab_type": "text"
   },
   "source": [
    "FUNCTION FOR TRAINING MODEL"
   ]
  },
  {
   "cell_type": "code",
   "execution_count": 0,
   "metadata": {
    "id": "Orn-7BcpDizd",
    "colab_type": "code",
    "colab": {}
   },
   "outputs": [],
   "source": [
    "def model(train_x, train_y, epoch, alpha):\n",
    "  \n",
    "  # no. of features\n",
    "  # dim = train_x.shape[1]\n",
    "\n",
    "  w = np.zeros(train_x.shape[1])\n",
    "\n",
    "  b = 0\n",
    "\n",
    "  m = train_y.size\n",
    "\n",
    "\n",
    "  for i in range(epoch):\n",
    "    z = np.dot(train_x, w)\n",
    "    h = sigmoid(z)\n",
    "    grad = np.dot(train_x.T, (h-train_y))/m\n",
    "    w -= alpha*grad #updating the weight\n",
    "\n",
    "    #calculating loss\n",
    "\n",
    "    if (epoch % 10 == 0):\n",
    "      z = np.dot(train_x, w)\n",
    "      h = sigmoid(z)\n",
    "      #print(h)\n",
    "      loss = (-train_y * np.log(h) - (1 - train_y) * np.log(1 - h)).mean()\n",
    "      \n",
    "      #print(loss)\n",
    "\n",
    "  # w = w.reshape(train_x.shape[0], 1)\n",
    "  \n",
    "  d = {\"w\":w, \"loss\":loss}\n",
    "\n",
    "  return d \n",
    "\n"
   ]
  },
  {
   "cell_type": "code",
   "execution_count": 0,
   "metadata": {
    "id": "1tcWQeFNeZwl",
    "colab_type": "code",
    "colab": {}
   },
   "outputs": [],
   "source": [
    "def sigmoid(z):\n",
    "  return(1 / (1+np.exp(-z)))\n"
   ]
  },
  {
   "cell_type": "markdown",
   "metadata": {
    "id": "bQ33OXF980qV",
    "colab_type": "text"
   },
   "source": [
    "SETTING HYPERPARAMETERS"
   ]
  },
  {
   "cell_type": "code",
   "execution_count": 0,
   "metadata": {
    "id": "iMIIvlOYZbDM",
    "colab_type": "code",
    "colab": {}
   },
   "outputs": [],
   "source": [
    "lr = [0.0001]\n",
    "\n",
    "noi = [20000, 30000, 40000, 50000, 60000, 70000, 80000, 90000, 100000]\n",
    "aa = [100000]\n",
    "loss_list = []\n",
    "w_list = []\n",
    "\n",
    "# for a in range(len(lr)):\n",
    "#   d = model(train_x, train_y, epoch = 1000, alpha = lr[a])\n",
    "#   loss = d[\"loss\"]\n",
    "#   w = d[\"w\"]\n",
    "#   loss_list.append(loss)\n",
    "#   w_list.append(w)\n",
    "#   a += a\n",
    "\n",
    "for a in range(len(noi)):\n",
    "  d = model(train_x, train_y, epoch = noi[a], alpha = 0.00008)\n",
    "  loss = d[\"loss\"]\n",
    "  w = d[\"w\"]\n",
    "  loss_list.append(loss)\n",
    "  w_list.append(w)\n",
    "  a += a  \n",
    "\n",
    "  \n",
    "\n",
    "#print(loss_list)\n",
    "#print(w_list)"
   ]
  },
  {
   "cell_type": "markdown",
   "metadata": {
    "id": "TJkV3QUH84W6",
    "colab_type": "text"
   },
   "source": [
    "METHOD FOR PREDICTING"
   ]
  },
  {
   "cell_type": "code",
   "execution_count": 0,
   "metadata": {
    "id": "tJlhSpyHNyo2",
    "colab_type": "code",
    "colab": {}
   },
   "outputs": [],
   "source": [
    "def predict (data, w):\n",
    "  m = data.shape[1]\n",
    "  y_prediction = np.zeros((1,m))\n",
    "  w = w.reshape(data.shape[0],1)\n",
    "  b = 0\n",
    "  A = sigmoid(np.dot(w.T, data)+b)\n",
    "  zero = []\n",
    "  one = []\n",
    "  pat_z = []\n",
    "  pat_o = []\n",
    "  A_list = list(itertools.chain.from_iterable(A.tolist()))\n",
    "\n",
    "\n",
    "  for i in range(len(A_list)):\n",
    "    if (A_list[i] < 0.5):\n",
    "      zero.append(A_list[i])\n",
    "      pat_z.append(i)\n",
    "    else:\n",
    "      one.append(A_list[i])\n",
    "      pat_o.append(i) \n",
    "\n",
    "  #plotting scatter for test\n",
    "\n",
    "  #x = 0.5\n",
    "  #plt.scatter(zero, pat_z)\n",
    "  #plt.scatter(one, pat_o)\n",
    "  #plt.axvline(x, c = \"red\")\n",
    "  #plt.show()\n",
    "\n",
    "  for i in range(A.shape[1]):\n",
    "    if(A[0,i]<0.5):\n",
    "      y_prediction[0,i] = 0\n",
    "    else:\n",
    "      y_prediction[0,i] = 1\n",
    "\n",
    "  return y_prediction  \n",
    " "
   ]
  },
  {
   "cell_type": "markdown",
   "metadata": {
    "id": "D0MTwbzy87XD",
    "colab_type": "text"
   },
   "source": [
    "CALCULATING PERFORMANCE METRICS"
   ]
  },
  {
   "cell_type": "code",
   "execution_count": 0,
   "metadata": {
    "id": "GPLQ21cHza0x",
    "colab_type": "code",
    "colab": {}
   },
   "outputs": [],
   "source": [
    "def performance(data_y, y_pred):\n",
    "    TP = 0\n",
    "    FP = 0\n",
    "    TN = 0\n",
    "    FN = 0\n",
    "\n",
    "    for i in range(len(y_hat)): \n",
    "        if data_y[i]==y_pred[i]==1:\n",
    "           TP += 1\n",
    "        if y_pred[i]==1 and data_y[i]!=y_pred[i]:\n",
    "           FP += 1\n",
    "        if data_y[i]==y_pred[i]==0:\n",
    "           TN += 1\n",
    "        if y_pred[i]==0 and data_y[i]!=y_pred[i]:\n",
    "           FN += 1\n",
    "\n",
    "\n",
    "\n",
    "    return (TP,FP,TN,FN)\n",
    "\n"
   ]
  },
  {
   "cell_type": "markdown",
   "metadata": {
    "id": "c79Hf9I79AnX",
    "colab_type": "text"
   },
   "source": [
    "CALLING PREDICTION FUNCTION"
   ]
  },
  {
   "cell_type": "code",
   "execution_count": 54,
   "metadata": {
    "id": "NG0VDlhXB9fm",
    "colab_type": "code",
    "outputId": "2bb0ca3e-d35c-4434-ef16-f56559968de0",
    "colab": {
     "base_uri": "https://localhost:8080/",
     "height": 1000.0
    }
   },
   "outputs": [
    {
     "name": "stdout",
     "output_type": "stream",
     "text": [
      "\n",
      "Train accuracy : 90.76923076923077 %\n",
      "\n",
      "Validation accuracy : 96.49122807017544 %\n",
      "\n",
      "Test accuracy : 87.71929824561404 %\n",
      "19 2 31 5\n",
      "\n",
      "Train accuracy : 92.3076923076923 %\n",
      "\n",
      "Validation accuracy : 96.49122807017544 %\n",
      "\n",
      "Test accuracy : 87.71929824561404 %\n",
      "19 2 31 5\n",
      "\n",
      "Train accuracy : 92.96703296703296 %\n",
      "\n",
      "Validation accuracy : 96.49122807017544 %\n",
      "\n",
      "Test accuracy : 87.71929824561404 %\n",
      "19 2 31 5\n",
      "\n",
      "Train accuracy : 93.62637362637362 %\n",
      "\n",
      "Validation accuracy : 96.49122807017544 %\n",
      "\n",
      "Test accuracy : 89.47368421052632 %\n",
      "19 1 32 5\n",
      "\n",
      "Train accuracy : 94.72527472527473 %\n",
      "\n",
      "Validation accuracy : 96.49122807017544 %\n",
      "\n",
      "Test accuracy : 89.47368421052632 %\n",
      "19 1 32 5\n",
      "\n",
      "Train accuracy : 95.38461538461539 %\n",
      "\n",
      "Validation accuracy : 98.24561403508773 %\n",
      "\n",
      "Test accuracy : 91.2280701754386 %\n",
      "20 1 32 4\n",
      "\n",
      "Train accuracy : 95.38461538461539 %\n",
      "\n",
      "Validation accuracy : 98.24561403508773 %\n",
      "\n",
      "Test accuracy : 91.2280701754386 %\n",
      "20 1 32 4\n",
      "\n",
      "Train accuracy : 95.38461538461539 %\n",
      "\n",
      "Validation accuracy : 98.24561403508773 %\n",
      "\n",
      "Test accuracy : 92.98245614035088 %\n",
      "21 1 32 3\n",
      "\n",
      "Train accuracy : 95.6043956043956 %\n",
      "\n",
      "Validation accuracy : 98.24561403508773 %\n",
      "\n",
      "Test accuracy : 92.98245614035088 %\n",
      "21 1 32 3\n"
     ]
    }
   ],
   "source": [
    "train_acc = []\n",
    "test_acc = []\n",
    "val_acc = []\n",
    "\n",
    "for i in range(len(w_list)):\n",
    "  y_prediction_train = predict(train_x.T, w_list[i])\n",
    "  y_prediction_test = predict(test_x.T, w_list[i])\n",
    "  y_prediction_val = predict(val_x.T, w_list[i])\n",
    "\n",
    "  print(\"\\nTrain accuracy \" + \": {} %\".format(100 - np.mean(np.abs(y_prediction_train - train_y.T)) * 100))\n",
    "  trainacc = (100 - np.mean(np.abs(y_prediction_train - train_y.T)) * 100)\n",
    "  train_acc.append(trainacc)\n",
    "\n",
    "  print(\"\\nValidation accuracy \" + \": {} %\".format(100 - np.mean(np.abs(y_prediction_val - val_y.T)) * 100))\n",
    "  valacc = (100 - np.mean(np.abs(y_prediction_val - val_y.T)) * 100)\n",
    "  val_acc.append(valacc)\n",
    "\n",
    "  print(\"\\nTest accuracy \" + \": {} %\".format(100 - np.mean(np.abs(y_prediction_test - test_y.T)) * 100))\n",
    "  testacc = (100 - np.mean(np.abs(y_prediction_test - test_y.T)) * 100)\n",
    "  test_acc.append(testacc)\n",
    "\n",
    "  y_prediction_test = [y for x in y_prediction_test for y in x]\n",
    "\n",
    "  TP,FP,TN,FN = performance(test_y, y_prediction_test)\n",
    "  print(TP, FP, TN, FN)\n",
    "\n"
   ]
  },
  {
   "cell_type": "markdown",
   "metadata": {
    "id": "ExzzXqXH9Fd2",
    "colab_type": "text"
   },
   "source": [
    "GRAPHS"
   ]
  },
  {
   "cell_type": "code",
   "execution_count": 58,
   "metadata": {
    "id": "DPQnK2Otjhko",
    "colab_type": "code",
    "outputId": "6f57abb5-aaa1-487a-db07-7aaccedb87ae",
    "colab": {
     "base_uri": "https://localhost:8080/",
     "height": 312.0
    }
   },
   "outputs": [
    {
     "data": {
      "text/plain": [
       "Text(0.5, 0, 'Epoch')"
      ]
     },
     "execution_count": 58,
     "metadata": {
      "tags": []
     },
     "output_type": "execute_result"
    },
    {
     "data": {
      "image/png": "[encoded data removed]",
      "text/plain": [
       "<Figure size 432x288 with 1 Axes>"
      ]
     },
     "metadata": {
      "tags": []
     },
     "output_type": "display_data"
    }
   ],
   "source": [
    "plt.plot (noi, loss_list) \n",
    "plt.title ('Training loss vs Epoch')\n",
    "plt.ylabel('training loss')\n",
    "plt.xlabel('Epoch')\n",
    "#plt.xticks(lr, rotation='vertical')\n"
   ]
  },
  {
   "cell_type": "code",
   "execution_count": 59,
   "metadata": {
    "id": "WiQle5UIBNX6",
    "colab_type": "code",
    "outputId": "bf9c78ff-7831-4e48-e543-38cca7d52645",
    "colab": {
     "base_uri": "https://localhost:8080/",
     "height": 312.0
    }
   },
   "outputs": [
    {
     "data": {
      "text/plain": [
       "Text(0.5, 0, 'Learning Rate')"
      ]
     },
     "execution_count": 59,
     "metadata": {
      "tags": []
     },
     "output_type": "execute_result"
    },
    {
     "data": {
      "image/png": "[encoded data removed]",
      "text/plain": [
       "<Figure size 432x288 with 1 Axes>"
      ]
     },
     "metadata": {
      "tags": []
     },
     "output_type": "display_data"
    }
   ],
   "source": [
    "#plt.plot (loss_list, )\n",
    "x = [1,2,3,4,5,6,7]\n",
    "\n",
    "fig = plt.figure()\n",
    "ax = fig.add_subplot(111)\n",
    "\n",
    "ax.plot(noi, train_acc, label = \"train\", marker = \".\")\n",
    "ax.plot (noi, val_acc, label = \"validation\", marker = \".\")\n",
    "#ax.plot (x, test_acc, label = \"test\", marker = \".\")\n",
    "ax.legend(loc = \"upper right\")\n",
    "plt.title ('Accuracies for different epoch')\n",
    "plt.ylabel('Accuracy (%)')\n",
    "plt.xlabel('Epoch')"
   ]
  }
 ],
 "metadata": {
  "colab": {
   "name": "main.ipynb",
   "provenance": [],
   "collapsed_sections": []
  },
  "kernelspec": {
   "name": "python3",
   "display_name": "Python 3"
  }
 },
 "nbformat": 4,
 "nbformat_minor": 0
}
